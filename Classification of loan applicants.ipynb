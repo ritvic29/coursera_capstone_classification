{
    "nbformat_minor": 1, 
    "cells": [
        {
            "execution_count": 61, 
            "cell_type": "code", 
            "metadata": {}, 
            "outputs": [
                {
                    "execution_count": 61, 
                    "metadata": {}, 
                    "data": {
                        "text/html": "<div>\n<style scoped>\n    .dataframe tbody tr th:only-of-type {\n        vertical-align: middle;\n    }\n\n    .dataframe tbody tr th {\n        vertical-align: top;\n    }\n\n    .dataframe thead th {\n        text-align: right;\n    }\n</style>\n<table border=\"1\" class=\"dataframe\">\n  <thead>\n    <tr style=\"text-align: right;\">\n      <th></th>\n      <th>Loan_ID</th>\n      <th>Gender</th>\n      <th>Married</th>\n      <th>Dependents</th>\n      <th>Education</th>\n      <th>Self_Employed</th>\n      <th>ApplicantIncome</th>\n      <th>CoapplicantIncome</th>\n      <th>LoanAmount</th>\n      <th>Loan_Amount_Term</th>\n      <th>Credit_History</th>\n      <th>Property_Area</th>\n      <th>Loan_Status</th>\n    </tr>\n  </thead>\n  <tbody>\n    <tr>\n      <th>0</th>\n      <td>LP001002</td>\n      <td>Male</td>\n      <td>No</td>\n      <td>0</td>\n      <td>Graduate</td>\n      <td>No</td>\n      <td>5849</td>\n      <td>0.0</td>\n      <td>NaN</td>\n      <td>360.0</td>\n      <td>1.0</td>\n      <td>Urban</td>\n      <td>Y</td>\n    </tr>\n    <tr>\n      <th>1</th>\n      <td>LP001003</td>\n      <td>Male</td>\n      <td>Yes</td>\n      <td>1</td>\n      <td>Graduate</td>\n      <td>No</td>\n      <td>4583</td>\n      <td>1508.0</td>\n      <td>128.0</td>\n      <td>360.0</td>\n      <td>1.0</td>\n      <td>Rural</td>\n      <td>N</td>\n    </tr>\n    <tr>\n      <th>2</th>\n      <td>LP001005</td>\n      <td>Male</td>\n      <td>Yes</td>\n      <td>0</td>\n      <td>Graduate</td>\n      <td>Yes</td>\n      <td>3000</td>\n      <td>0.0</td>\n      <td>66.0</td>\n      <td>360.0</td>\n      <td>1.0</td>\n      <td>Urban</td>\n      <td>Y</td>\n    </tr>\n    <tr>\n      <th>3</th>\n      <td>LP001006</td>\n      <td>Male</td>\n      <td>Yes</td>\n      <td>0</td>\n      <td>Not Graduate</td>\n      <td>No</td>\n      <td>2583</td>\n      <td>2358.0</td>\n      <td>120.0</td>\n      <td>360.0</td>\n      <td>1.0</td>\n      <td>Urban</td>\n      <td>Y</td>\n    </tr>\n    <tr>\n      <th>4</th>\n      <td>LP001008</td>\n      <td>Male</td>\n      <td>No</td>\n      <td>0</td>\n      <td>Graduate</td>\n      <td>No</td>\n      <td>6000</td>\n      <td>0.0</td>\n      <td>141.0</td>\n      <td>360.0</td>\n      <td>1.0</td>\n      <td>Urban</td>\n      <td>Y</td>\n    </tr>\n  </tbody>\n</table>\n</div>", 
                        "text/plain": "    Loan_ID Gender Married Dependents     Education Self_Employed  \\\n0  LP001002   Male      No          0      Graduate            No   \n1  LP001003   Male     Yes          1      Graduate            No   \n2  LP001005   Male     Yes          0      Graduate           Yes   \n3  LP001006   Male     Yes          0  Not Graduate            No   \n4  LP001008   Male      No          0      Graduate            No   \n\n   ApplicantIncome  CoapplicantIncome  LoanAmount  Loan_Amount_Term  \\\n0             5849                0.0         NaN             360.0   \n1             4583             1508.0       128.0             360.0   \n2             3000                0.0        66.0             360.0   \n3             2583             2358.0       120.0             360.0   \n4             6000                0.0       141.0             360.0   \n\n   Credit_History Property_Area Loan_Status  \n0             1.0         Urban           Y  \n1             1.0         Rural           N  \n2             1.0         Urban           Y  \n3             1.0         Urban           Y  \n4             1.0         Urban           Y  "
                    }, 
                    "output_type": "execute_result"
                }
            ], 
            "source": "# The code was removed by Watson Studio for sharing."
        }, 
        {
            "execution_count": 62, 
            "cell_type": "code", 
            "metadata": {}, 
            "outputs": [
                {
                    "execution_count": 62, 
                    "metadata": {}, 
                    "data": {
                        "text/plain": "(614, 13)"
                    }, 
                    "output_type": "execute_result"
                }
            ], 
            "source": "df.shape"
        }, 
        {
            "execution_count": 63, 
            "cell_type": "code", 
            "metadata": {}, 
            "outputs": [
                {
                    "execution_count": 63, 
                    "metadata": {}, 
                    "data": {
                        "text/plain": "Loan_ID               0\nGender               13\nMarried               3\nDependents           15\nEducation             0\nSelf_Employed        32\nApplicantIncome       0\nCoapplicantIncome     0\nLoanAmount           22\nLoan_Amount_Term     14\nCredit_History       50\nProperty_Area         0\nLoan_Status           0\ndtype: int64"
                    }, 
                    "output_type": "execute_result"
                }
            ], 
            "source": "df.isnull().sum()"
        }, 
        {
            "execution_count": 64, 
            "cell_type": "code", 
            "metadata": {}, 
            "outputs": [
                {
                    "execution_count": 64, 
                    "metadata": {}, 
                    "data": {
                        "text/plain": "1.0    475\n0.0     89\nName: Credit_History, dtype: int64"
                    }, 
                    "output_type": "execute_result"
                }
            ], 
            "source": "df['Credit_History'].value_counts()"
        }, 
        {
            "execution_count": 65, 
            "cell_type": "code", 
            "metadata": {}, 
            "outputs": [
                {
                    "execution_count": 65, 
                    "metadata": {}, 
                    "data": {
                        "text/plain": "360.0    512\n180.0     44\n480.0     15\n300.0     13\n84.0       4\n240.0      4\n120.0      3\n36.0       2\n60.0       2\n12.0       1\nName: Loan_Amount_Term, dtype: int64"
                    }, 
                    "output_type": "execute_result"
                }
            ], 
            "source": "df['Loan_Amount_Term'].value_counts()"
        }, 
        {
            "execution_count": 66, 
            "cell_type": "code", 
            "metadata": {}, 
            "outputs": [
                {
                    "execution_count": 66, 
                    "metadata": {}, 
                    "data": {
                        "text/html": "<div>\n<style scoped>\n    .dataframe tbody tr th:only-of-type {\n        vertical-align: middle;\n    }\n\n    .dataframe tbody tr th {\n        vertical-align: top;\n    }\n\n    .dataframe thead th {\n        text-align: right;\n    }\n</style>\n<table border=\"1\" class=\"dataframe\">\n  <thead>\n    <tr style=\"text-align: right;\">\n      <th></th>\n      <th>ApplicantIncome</th>\n      <th>CoapplicantIncome</th>\n      <th>LoanAmount</th>\n      <th>Loan_Amount_Term</th>\n      <th>Credit_History</th>\n    </tr>\n  </thead>\n  <tbody>\n    <tr>\n      <th>count</th>\n      <td>614.000000</td>\n      <td>614.000000</td>\n      <td>592.000000</td>\n      <td>600.00000</td>\n      <td>564.000000</td>\n    </tr>\n    <tr>\n      <th>mean</th>\n      <td>5403.459283</td>\n      <td>1621.245798</td>\n      <td>146.412162</td>\n      <td>342.00000</td>\n      <td>0.842199</td>\n    </tr>\n    <tr>\n      <th>std</th>\n      <td>6109.041673</td>\n      <td>2926.248369</td>\n      <td>85.587325</td>\n      <td>65.12041</td>\n      <td>0.364878</td>\n    </tr>\n    <tr>\n      <th>min</th>\n      <td>150.000000</td>\n      <td>0.000000</td>\n      <td>9.000000</td>\n      <td>12.00000</td>\n      <td>0.000000</td>\n    </tr>\n    <tr>\n      <th>25%</th>\n      <td>2877.500000</td>\n      <td>0.000000</td>\n      <td>100.000000</td>\n      <td>360.00000</td>\n      <td>1.000000</td>\n    </tr>\n    <tr>\n      <th>50%</th>\n      <td>3812.500000</td>\n      <td>1188.500000</td>\n      <td>128.000000</td>\n      <td>360.00000</td>\n      <td>1.000000</td>\n    </tr>\n    <tr>\n      <th>75%</th>\n      <td>5795.000000</td>\n      <td>2297.250000</td>\n      <td>168.000000</td>\n      <td>360.00000</td>\n      <td>1.000000</td>\n    </tr>\n    <tr>\n      <th>max</th>\n      <td>81000.000000</td>\n      <td>41667.000000</td>\n      <td>700.000000</td>\n      <td>480.00000</td>\n      <td>1.000000</td>\n    </tr>\n  </tbody>\n</table>\n</div>", 
                        "text/plain": "       ApplicantIncome  CoapplicantIncome  LoanAmount  Loan_Amount_Term  \\\ncount       614.000000         614.000000  592.000000         600.00000   \nmean       5403.459283        1621.245798  146.412162         342.00000   \nstd        6109.041673        2926.248369   85.587325          65.12041   \nmin         150.000000           0.000000    9.000000          12.00000   \n25%        2877.500000           0.000000  100.000000         360.00000   \n50%        3812.500000        1188.500000  128.000000         360.00000   \n75%        5795.000000        2297.250000  168.000000         360.00000   \nmax       81000.000000       41667.000000  700.000000         480.00000   \n\n       Credit_History  \ncount      564.000000  \nmean         0.842199  \nstd          0.364878  \nmin          0.000000  \n25%          1.000000  \n50%          1.000000  \n75%          1.000000  \nmax          1.000000  "
                    }, 
                    "output_type": "execute_result"
                }
            ], 
            "source": "df.describe()"
        }, 
        {
            "execution_count": 67, 
            "cell_type": "code", 
            "metadata": {}, 
            "outputs": [
                {
                    "execution_count": 67, 
                    "metadata": {}, 
                    "data": {
                        "text/plain": "<bound method IndexOpsMixin.value_counts of 0      False\n1      False\n2      False\n3      False\n4      False\n5      False\n6      False\n7      False\n8      False\n9      False\n10     False\n11     False\n12     False\n13     False\n14     False\n15     False\n16      True\n17     False\n18     False\n19     False\n20     False\n21     False\n22     False\n23     False\n24      True\n25     False\n26     False\n27     False\n28     False\n29     False\n       ...  \n584    False\n585    False\n586    False\n587    False\n588    False\n589    False\n590    False\n591    False\n592    False\n593    False\n594    False\n595    False\n596    False\n597    False\n598    False\n599    False\n600     True\n601    False\n602    False\n603    False\n604    False\n605    False\n606    False\n607    False\n608    False\n609    False\n610    False\n611    False\n612    False\n613    False\nName: Credit_History, Length: 614, dtype: bool>"
                    }, 
                    "output_type": "execute_result"
                }
            ], 
            "source": "df['Credit_History'].isnull().value_counts"
        }, 
        {
            "execution_count": 68, 
            "cell_type": "code", 
            "metadata": {}, 
            "outputs": [
                {
                    "execution_count": 68, 
                    "metadata": {}, 
                    "data": {
                        "text/plain": "(614, 13)"
                    }, 
                    "output_type": "execute_result"
                }
            ], 
            "source": "df.shape"
        }, 
        {
            "execution_count": 69, 
            "cell_type": "code", 
            "metadata": {}, 
            "outputs": [], 
            "source": "#Filling missing values\ndf['Gender'] = df['Gender'].fillna( df['Gender'].dropna().mode().values[0] )\ndf['Married'] = df['Married'].fillna( df['Married'].dropna().mode().values[0] )\ndf['Dependents'] = df['Dependents'].fillna( df['Dependents'].dropna().mode().values[0] )\ndf['Self_Employed'] = df['Self_Employed'].fillna( df['Self_Employed'].dropna().mode().values[0] )\ndf['LoanAmount'] = df['LoanAmount'].fillna( df['LoanAmount'].dropna().mean() )\ndf['Loan_Amount_Term'] = df['Loan_Amount_Term'].fillna( df['Loan_Amount_Term'].dropna().mode().values[0] )\ndf['Credit_History'] = df['Credit_History'].fillna( df['Credit_History'].dropna().mode().values[0] )\ndf['Dependents'] = df['Dependents'].str.rstrip('+')"
        }, 
        {
            "execution_count": 70, 
            "cell_type": "code", 
            "metadata": {}, 
            "outputs": [
                {
                    "execution_count": 70, 
                    "metadata": {}, 
                    "data": {
                        "text/html": "<div>\n<style scoped>\n    .dataframe tbody tr th:only-of-type {\n        vertical-align: middle;\n    }\n\n    .dataframe tbody tr th {\n        vertical-align: top;\n    }\n\n    .dataframe thead th {\n        text-align: right;\n    }\n</style>\n<table border=\"1\" class=\"dataframe\">\n  <thead>\n    <tr style=\"text-align: right;\">\n      <th></th>\n      <th>Loan_ID</th>\n      <th>Gender</th>\n      <th>Married</th>\n      <th>Dependents</th>\n      <th>Education</th>\n      <th>Self_Employed</th>\n      <th>ApplicantIncome</th>\n      <th>CoapplicantIncome</th>\n      <th>LoanAmount</th>\n      <th>Loan_Amount_Term</th>\n      <th>Credit_History</th>\n      <th>Property_Area</th>\n      <th>Loan_Status</th>\n    </tr>\n  </thead>\n  <tbody>\n    <tr>\n      <th>0</th>\n      <td>LP001002</td>\n      <td>Male</td>\n      <td>No</td>\n      <td>0</td>\n      <td>Graduate</td>\n      <td>No</td>\n      <td>5849</td>\n      <td>0.0</td>\n      <td>146.412162</td>\n      <td>360.0</td>\n      <td>1.0</td>\n      <td>Urban</td>\n      <td>Y</td>\n    </tr>\n    <tr>\n      <th>1</th>\n      <td>LP001003</td>\n      <td>Male</td>\n      <td>Yes</td>\n      <td>1</td>\n      <td>Graduate</td>\n      <td>No</td>\n      <td>4583</td>\n      <td>1508.0</td>\n      <td>128.000000</td>\n      <td>360.0</td>\n      <td>1.0</td>\n      <td>Rural</td>\n      <td>N</td>\n    </tr>\n    <tr>\n      <th>2</th>\n      <td>LP001005</td>\n      <td>Male</td>\n      <td>Yes</td>\n      <td>0</td>\n      <td>Graduate</td>\n      <td>Yes</td>\n      <td>3000</td>\n      <td>0.0</td>\n      <td>66.000000</td>\n      <td>360.0</td>\n      <td>1.0</td>\n      <td>Urban</td>\n      <td>Y</td>\n    </tr>\n    <tr>\n      <th>3</th>\n      <td>LP001006</td>\n      <td>Male</td>\n      <td>Yes</td>\n      <td>0</td>\n      <td>Not Graduate</td>\n      <td>No</td>\n      <td>2583</td>\n      <td>2358.0</td>\n      <td>120.000000</td>\n      <td>360.0</td>\n      <td>1.0</td>\n      <td>Urban</td>\n      <td>Y</td>\n    </tr>\n    <tr>\n      <th>4</th>\n      <td>LP001008</td>\n      <td>Male</td>\n      <td>No</td>\n      <td>0</td>\n      <td>Graduate</td>\n      <td>No</td>\n      <td>6000</td>\n      <td>0.0</td>\n      <td>141.000000</td>\n      <td>360.0</td>\n      <td>1.0</td>\n      <td>Urban</td>\n      <td>Y</td>\n    </tr>\n  </tbody>\n</table>\n</div>", 
                        "text/plain": "    Loan_ID Gender Married Dependents     Education Self_Employed  \\\n0  LP001002   Male      No          0      Graduate            No   \n1  LP001003   Male     Yes          1      Graduate            No   \n2  LP001005   Male     Yes          0      Graduate           Yes   \n3  LP001006   Male     Yes          0  Not Graduate            No   \n4  LP001008   Male      No          0      Graduate            No   \n\n   ApplicantIncome  CoapplicantIncome  LoanAmount  Loan_Amount_Term  \\\n0             5849                0.0  146.412162             360.0   \n1             4583             1508.0  128.000000             360.0   \n2             3000                0.0   66.000000             360.0   \n3             2583             2358.0  120.000000             360.0   \n4             6000                0.0  141.000000             360.0   \n\n   Credit_History Property_Area Loan_Status  \n0             1.0         Urban           Y  \n1             1.0         Rural           N  \n2             1.0         Urban           Y  \n3             1.0         Urban           Y  \n4             1.0         Urban           Y  "
                    }, 
                    "output_type": "execute_result"
                }
            ], 
            "source": "df.head()"
        }, 
        {
            "execution_count": 71, 
            "cell_type": "code", 
            "metadata": {}, 
            "outputs": [
                {
                    "execution_count": 71, 
                    "metadata": {}, 
                    "data": {
                        "text/plain": "Loan_ID              0\nGender               0\nMarried              0\nDependents           0\nEducation            0\nSelf_Employed        0\nApplicantIncome      0\nCoapplicantIncome    0\nLoanAmount           0\nLoan_Amount_Term     0\nCredit_History       0\nProperty_Area        0\nLoan_Status          0\ndtype: int64"
                    }, 
                    "output_type": "execute_result"
                }
            ], 
            "source": "df.isnull().sum()"
        }, 
        {
            "execution_count": 72, 
            "cell_type": "code", 
            "metadata": {}, 
            "outputs": [
                {
                    "execution_count": 72, 
                    "metadata": {}, 
                    "data": {
                        "text/plain": "Loan_ID               object\nGender                object\nMarried               object\nDependents            object\nEducation             object\nSelf_Employed         object\nApplicantIncome        int64\nCoapplicantIncome    float64\nLoanAmount           float64\nLoan_Amount_Term     float64\nCredit_History       float64\nProperty_Area         object\nLoan_Status           object\ndtype: object"
                    }, 
                    "output_type": "execute_result"
                }
            ], 
            "source": "df.dtypes"
        }, 
        {
            "execution_count": 73, 
            "cell_type": "code", 
            "metadata": {}, 
            "outputs": [
                {
                    "execution_count": 73, 
                    "metadata": {}, 
                    "data": {
                        "text/plain": "0    360\n1    102\n2    101\n3     51\nName: Dependents, dtype: int64"
                    }, 
                    "output_type": "execute_result"
                }
            ], 
            "source": "df['Dependents'].value_counts()"
        }, 
        {
            "execution_count": 74, 
            "cell_type": "code", 
            "metadata": {}, 
            "outputs": [
                {
                    "execution_count": 74, 
                    "metadata": {}, 
                    "data": {
                        "text/plain": "Semiurban    233\nUrban        202\nRural        179\nName: Property_Area, dtype: int64"
                    }, 
                    "output_type": "execute_result"
                }
            ], 
            "source": "df['Property_Area'].value_counts()"
        }, 
        {
            "execution_count": 75, 
            "cell_type": "code", 
            "metadata": {}, 
            "outputs": [], 
            "source": "import numpy as np\ndf['Married'] = df['Married'].map({'No':0, 'Yes':1}).astype(np.float)\ndf['Education'] = df['Education'].map({'Not Graduate':0, 'Graduate':1}).astype(np.float)\ndf['Self_Employed'] = df['Self_Employed'].map({'No':0, 'Yes':1}).astype(np.float)\ndf['Loan_Status'] = df['Loan_Status'].map({'N':0, 'Y':1}).astype(np.float)\ndf['Dependents'] = df['Dependents'].astype(np.float)\ndf['Property_Area']= df['Property_Area'].map({'Rural':0, 'Semiurban':1, 'Urban':2}).astype(np.float)"
        }, 
        {
            "execution_count": 76, 
            "cell_type": "code", 
            "metadata": {}, 
            "outputs": [
                {
                    "execution_count": 76, 
                    "metadata": {}, 
                    "data": {
                        "text/plain": "Loan_ID               object\nGender                object\nMarried              float64\nDependents           float64\nEducation            float64\nSelf_Employed        float64\nApplicantIncome        int64\nCoapplicantIncome    float64\nLoanAmount           float64\nLoan_Amount_Term     float64\nCredit_History       float64\nProperty_Area        float64\nLoan_Status          float64\ndtype: object"
                    }, 
                    "output_type": "execute_result"
                }
            ], 
            "source": "df.dtypes"
        }, 
        {
            "execution_count": 77, 
            "cell_type": "code", 
            "metadata": {}, 
            "outputs": [
                {
                    "execution_count": 77, 
                    "metadata": {}, 
                    "data": {
                        "text/html": "<div>\n<style scoped>\n    .dataframe tbody tr th:only-of-type {\n        vertical-align: middle;\n    }\n\n    .dataframe tbody tr th {\n        vertical-align: top;\n    }\n\n    .dataframe thead th {\n        text-align: right;\n    }\n</style>\n<table border=\"1\" class=\"dataframe\">\n  <thead>\n    <tr style=\"text-align: right;\">\n      <th></th>\n      <th>Loan_ID</th>\n      <th>Gender</th>\n      <th>Married</th>\n      <th>Dependents</th>\n      <th>Education</th>\n      <th>Self_Employed</th>\n      <th>ApplicantIncome</th>\n      <th>CoapplicantIncome</th>\n      <th>LoanAmount</th>\n      <th>Loan_Amount_Term</th>\n      <th>Credit_History</th>\n      <th>Property_Area</th>\n      <th>Loan_Status</th>\n    </tr>\n  </thead>\n  <tbody>\n    <tr>\n      <th>0</th>\n      <td>LP001002</td>\n      <td>Male</td>\n      <td>0.0</td>\n      <td>0.0</td>\n      <td>1.0</td>\n      <td>0.0</td>\n      <td>5849</td>\n      <td>0.0</td>\n      <td>146.412162</td>\n      <td>360.0</td>\n      <td>1.0</td>\n      <td>2.0</td>\n      <td>1.0</td>\n    </tr>\n    <tr>\n      <th>1</th>\n      <td>LP001003</td>\n      <td>Male</td>\n      <td>1.0</td>\n      <td>1.0</td>\n      <td>1.0</td>\n      <td>0.0</td>\n      <td>4583</td>\n      <td>1508.0</td>\n      <td>128.000000</td>\n      <td>360.0</td>\n      <td>1.0</td>\n      <td>0.0</td>\n      <td>0.0</td>\n    </tr>\n    <tr>\n      <th>2</th>\n      <td>LP001005</td>\n      <td>Male</td>\n      <td>1.0</td>\n      <td>0.0</td>\n      <td>1.0</td>\n      <td>1.0</td>\n      <td>3000</td>\n      <td>0.0</td>\n      <td>66.000000</td>\n      <td>360.0</td>\n      <td>1.0</td>\n      <td>2.0</td>\n      <td>1.0</td>\n    </tr>\n    <tr>\n      <th>3</th>\n      <td>LP001006</td>\n      <td>Male</td>\n      <td>1.0</td>\n      <td>0.0</td>\n      <td>0.0</td>\n      <td>0.0</td>\n      <td>2583</td>\n      <td>2358.0</td>\n      <td>120.000000</td>\n      <td>360.0</td>\n      <td>1.0</td>\n      <td>2.0</td>\n      <td>1.0</td>\n    </tr>\n    <tr>\n      <th>4</th>\n      <td>LP001008</td>\n      <td>Male</td>\n      <td>0.0</td>\n      <td>0.0</td>\n      <td>1.0</td>\n      <td>0.0</td>\n      <td>6000</td>\n      <td>0.0</td>\n      <td>141.000000</td>\n      <td>360.0</td>\n      <td>1.0</td>\n      <td>2.0</td>\n      <td>1.0</td>\n    </tr>\n  </tbody>\n</table>\n</div>", 
                        "text/plain": "    Loan_ID Gender  Married  Dependents  Education  Self_Employed  \\\n0  LP001002   Male      0.0         0.0        1.0            0.0   \n1  LP001003   Male      1.0         1.0        1.0            0.0   \n2  LP001005   Male      1.0         0.0        1.0            1.0   \n3  LP001006   Male      1.0         0.0        0.0            0.0   \n4  LP001008   Male      0.0         0.0        1.0            0.0   \n\n   ApplicantIncome  CoapplicantIncome  LoanAmount  Loan_Amount_Term  \\\n0             5849                0.0  146.412162             360.0   \n1             4583             1508.0  128.000000             360.0   \n2             3000                0.0   66.000000             360.0   \n3             2583             2358.0  120.000000             360.0   \n4             6000                0.0  141.000000             360.0   \n\n   Credit_History  Property_Area  Loan_Status  \n0             1.0            2.0          1.0  \n1             1.0            0.0          0.0  \n2             1.0            2.0          1.0  \n3             1.0            2.0          1.0  \n4             1.0            2.0          1.0  "
                    }, 
                    "output_type": "execute_result"
                }
            ], 
            "source": "df.head()"
        }, 
        {
            "execution_count": 78, 
            "cell_type": "code", 
            "metadata": {}, 
            "outputs": [], 
            "source": "df2= df.drop('Gender', axis= 1)"
        }, 
        {
            "execution_count": 79, 
            "cell_type": "code", 
            "metadata": {}, 
            "outputs": [
                {
                    "execution_count": 79, 
                    "metadata": {}, 
                    "data": {
                        "text/html": "<div>\n<style scoped>\n    .dataframe tbody tr th:only-of-type {\n        vertical-align: middle;\n    }\n\n    .dataframe tbody tr th {\n        vertical-align: top;\n    }\n\n    .dataframe thead th {\n        text-align: right;\n    }\n</style>\n<table border=\"1\" class=\"dataframe\">\n  <thead>\n    <tr style=\"text-align: right;\">\n      <th></th>\n      <th>Loan_ID</th>\n      <th>Married</th>\n      <th>Dependents</th>\n      <th>Education</th>\n      <th>Self_Employed</th>\n      <th>ApplicantIncome</th>\n      <th>CoapplicantIncome</th>\n      <th>LoanAmount</th>\n      <th>Loan_Amount_Term</th>\n      <th>Credit_History</th>\n      <th>Property_Area</th>\n      <th>Loan_Status</th>\n    </tr>\n  </thead>\n  <tbody>\n    <tr>\n      <th>0</th>\n      <td>LP001002</td>\n      <td>0.0</td>\n      <td>0.0</td>\n      <td>1.0</td>\n      <td>0.0</td>\n      <td>5849</td>\n      <td>0.0</td>\n      <td>146.412162</td>\n      <td>360.0</td>\n      <td>1.0</td>\n      <td>2.0</td>\n      <td>1.0</td>\n    </tr>\n    <tr>\n      <th>1</th>\n      <td>LP001003</td>\n      <td>1.0</td>\n      <td>1.0</td>\n      <td>1.0</td>\n      <td>0.0</td>\n      <td>4583</td>\n      <td>1508.0</td>\n      <td>128.000000</td>\n      <td>360.0</td>\n      <td>1.0</td>\n      <td>0.0</td>\n      <td>0.0</td>\n    </tr>\n    <tr>\n      <th>2</th>\n      <td>LP001005</td>\n      <td>1.0</td>\n      <td>0.0</td>\n      <td>1.0</td>\n      <td>1.0</td>\n      <td>3000</td>\n      <td>0.0</td>\n      <td>66.000000</td>\n      <td>360.0</td>\n      <td>1.0</td>\n      <td>2.0</td>\n      <td>1.0</td>\n    </tr>\n    <tr>\n      <th>3</th>\n      <td>LP001006</td>\n      <td>1.0</td>\n      <td>0.0</td>\n      <td>0.0</td>\n      <td>0.0</td>\n      <td>2583</td>\n      <td>2358.0</td>\n      <td>120.000000</td>\n      <td>360.0</td>\n      <td>1.0</td>\n      <td>2.0</td>\n      <td>1.0</td>\n    </tr>\n    <tr>\n      <th>4</th>\n      <td>LP001008</td>\n      <td>0.0</td>\n      <td>0.0</td>\n      <td>1.0</td>\n      <td>0.0</td>\n      <td>6000</td>\n      <td>0.0</td>\n      <td>141.000000</td>\n      <td>360.0</td>\n      <td>1.0</td>\n      <td>2.0</td>\n      <td>1.0</td>\n    </tr>\n  </tbody>\n</table>\n</div>", 
                        "text/plain": "    Loan_ID  Married  Dependents  Education  Self_Employed  ApplicantIncome  \\\n0  LP001002      0.0         0.0        1.0            0.0             5849   \n1  LP001003      1.0         1.0        1.0            0.0             4583   \n2  LP001005      1.0         0.0        1.0            1.0             3000   \n3  LP001006      1.0         0.0        0.0            0.0             2583   \n4  LP001008      0.0         0.0        1.0            0.0             6000   \n\n   CoapplicantIncome  LoanAmount  Loan_Amount_Term  Credit_History  \\\n0                0.0  146.412162             360.0             1.0   \n1             1508.0  128.000000             360.0             1.0   \n2                0.0   66.000000             360.0             1.0   \n3             2358.0  120.000000             360.0             1.0   \n4                0.0  141.000000             360.0             1.0   \n\n   Property_Area  Loan_Status  \n0            2.0          1.0  \n1            0.0          0.0  \n2            2.0          1.0  \n3            2.0          1.0  \n4            2.0          1.0  "
                    }, 
                    "output_type": "execute_result"
                }
            ], 
            "source": "df2.head()"
        }, 
        {
            "execution_count": 80, 
            "cell_type": "code", 
            "metadata": {}, 
            "outputs": [], 
            "source": "df3= df2.set_index('Loan_ID')"
        }, 
        {
            "execution_count": 81, 
            "cell_type": "code", 
            "metadata": {}, 
            "outputs": [], 
            "source": "from sklearn import preprocessing"
        }, 
        {
            "execution_count": 82, 
            "cell_type": "code", 
            "metadata": {}, 
            "outputs": [
                {
                    "execution_count": 82, 
                    "metadata": {}, 
                    "data": {
                        "text/plain": "Index(['Married', 'Dependents', 'Education', 'Self_Employed',\n       'ApplicantIncome', 'CoapplicantIncome', 'LoanAmount',\n       'Loan_Amount_Term', 'Credit_History', 'Property_Area', 'Loan_Status'],\n      dtype='object')"
                    }, 
                    "output_type": "execute_result"
                }
            ], 
            "source": "df3.columns"
        }, 
        {
            "execution_count": 83, 
            "cell_type": "code", 
            "metadata": {}, 
            "outputs": [
                {
                    "execution_count": 83, 
                    "metadata": {}, 
                    "data": {
                        "text/plain": "array([[  0.00000000e+00,   0.00000000e+00,   1.00000000e+00,\n          0.00000000e+00,   5.84900000e+03,   0.00000000e+00,\n          1.46412162e+02,   3.60000000e+02,   1.00000000e+00,\n          2.00000000e+00],\n       [  1.00000000e+00,   1.00000000e+00,   1.00000000e+00,\n          0.00000000e+00,   4.58300000e+03,   1.50800000e+03,\n          1.28000000e+02,   3.60000000e+02,   1.00000000e+00,\n          0.00000000e+00],\n       [  1.00000000e+00,   0.00000000e+00,   1.00000000e+00,\n          1.00000000e+00,   3.00000000e+03,   0.00000000e+00,\n          6.60000000e+01,   3.60000000e+02,   1.00000000e+00,\n          2.00000000e+00],\n       [  1.00000000e+00,   0.00000000e+00,   0.00000000e+00,\n          0.00000000e+00,   2.58300000e+03,   2.35800000e+03,\n          1.20000000e+02,   3.60000000e+02,   1.00000000e+00,\n          2.00000000e+00],\n       [  0.00000000e+00,   0.00000000e+00,   1.00000000e+00,\n          0.00000000e+00,   6.00000000e+03,   0.00000000e+00,\n          1.41000000e+02,   3.60000000e+02,   1.00000000e+00,\n          2.00000000e+00]])"
                    }, 
                    "output_type": "execute_result"
                }
            ], 
            "source": "#Converting data frames to array\nX= df3[[ 'Married', 'Dependents', 'Education',\n       'Self_Employed', 'ApplicantIncome', 'CoapplicantIncome', 'LoanAmount',\n       'Loan_Amount_Term', 'Credit_History', 'Property_Area']].values\nX[0:5]"
        }, 
        {
            "execution_count": 84, 
            "cell_type": "code", 
            "metadata": {}, 
            "outputs": [], 
            "source": "y= df3['Loan_Status'].values"
        }, 
        {
            "execution_count": 85, 
            "cell_type": "code", 
            "metadata": {}, 
            "outputs": [
                {
                    "execution_count": 85, 
                    "metadata": {}, 
                    "data": {
                        "text/plain": "array([ 1.,  0.,  1.,  1.,  1.])"
                    }, 
                    "output_type": "execute_result"
                }
            ], 
            "source": "y[0:5]"
        }, 
        {
            "execution_count": 86, 
            "cell_type": "code", 
            "metadata": {}, 
            "outputs": [
                {
                    "execution_count": 86, 
                    "metadata": {}, 
                    "data": {
                        "text/plain": "array([[-1.37208932, -0.73780632,  0.52836225, -0.39260074,  0.07299082,\n        -0.55448733,  0.        ,  0.2732313 ,  0.41173269,  1.22329839],\n       [ 0.72881553,  0.25346957,  0.52836225, -0.39260074, -0.13441195,\n        -0.03873155, -0.21927331,  0.2732313 ,  0.41173269, -1.31851281],\n       [ 0.72881553, -0.73780632,  0.52836225,  2.54711697, -0.39374734,\n        -0.55448733, -0.957641  ,  0.2732313 ,  0.41173269,  1.22329839],\n       [ 0.72881553, -0.73780632, -1.89264089, -0.39260074, -0.46206247,\n         0.2519796 , -0.31454656,  0.2732313 ,  0.41173269,  1.22329839],\n       [-1.37208932, -0.73780632,  0.52836225, -0.39260074,  0.09772844,\n        -0.55448733, -0.06445428,  0.2732313 ,  0.41173269,  1.22329839]])"
                    }, 
                    "output_type": "execute_result"
                }
            ], 
            "source": "X = preprocessing.StandardScaler().fit(X).transform(X.astype(float))\nX[0:5]"
        }, 
        {
            "execution_count": 87, 
            "cell_type": "code", 
            "metadata": {}, 
            "outputs": [
                {
                    "output_type": "stream", 
                    "name": "stdout", 
                    "text": "Train set: (429, 10) (429,)\nTest set: (185, 10) (185,)\n"
                }
            ], 
            "source": "from sklearn.model_selection import train_test_split\nX_train, X_test, y_train, y_test = train_test_split( X, y, test_size=0.3, random_state=4)\nprint ('Train set:', X_train.shape,  y_train.shape)\nprint ('Test set:', X_test.shape,  y_test.shape)"
        }, 
        {
            "execution_count": 88, 
            "cell_type": "code", 
            "metadata": {}, 
            "outputs": [], 
            "source": "#Implementing K neighbors algorithm\nfrom sklearn.neighbors import KNeighborsClassifier\n"
        }, 
        {
            "execution_count": 89, 
            "cell_type": "code", 
            "metadata": {}, 
            "outputs": [
                {
                    "execution_count": 89, 
                    "metadata": {}, 
                    "data": {
                        "text/plain": "KNeighborsClassifier(algorithm='auto', leaf_size=30, metric='minkowski',\n           metric_params=None, n_jobs=1, n_neighbors=3, p=2,\n           weights='uniform')"
                    }, 
                    "output_type": "execute_result"
                }
            ], 
            "source": "k = 3\n#Train Model and Predict  \nneigh = KNeighborsClassifier(n_neighbors = k).fit(X_train,y_train)\nneigh"
        }, 
        {
            "execution_count": 90, 
            "cell_type": "code", 
            "metadata": {}, 
            "outputs": [
                {
                    "execution_count": 90, 
                    "metadata": {}, 
                    "data": {
                        "text/plain": "array([ 1.,  1.,  1.,  1.,  1.,  1.,  1.,  0.,  1.,  0.])"
                    }, 
                    "output_type": "execute_result"
                }
            ], 
            "source": "yhatknn = neigh.predict(X_test)\nyhatknn[0:10]"
        }, 
        {
            "execution_count": 91, 
            "cell_type": "code", 
            "metadata": {}, 
            "outputs": [
                {
                    "execution_count": 91, 
                    "metadata": {}, 
                    "data": {
                        "text/plain": "array([ 1.,  1.,  0.,  0.,  1.,  1.,  0.,  0.,  0.,  1.])"
                    }, 
                    "output_type": "execute_result"
                }
            ], 
            "source": "y_test[0:10]"
        }, 
        {
            "execution_count": 93, 
            "cell_type": "code", 
            "metadata": {}, 
            "outputs": [
                {
                    "output_type": "stream", 
                    "name": "stdout", 
                    "text": "Train set Accuracy:  0.843822843823\nTest set Accuracy:  0.756756756757\n"
                }
            ], 
            "source": "from sklearn import metrics\nprint(\"Train set Accuracy: \", metrics.accuracy_score(y_train, neigh.predict(X_train)))\nprint(\"Test set Accuracy: \", metrics.accuracy_score(y_test, yhatknn))"
        }, 
        {
            "execution_count": 94, 
            "cell_type": "code", 
            "metadata": {}, 
            "outputs": [
                {
                    "execution_count": 94, 
                    "metadata": {}, 
                    "data": {
                        "text/plain": "0.7567567567567568"
                    }, 
                    "output_type": "execute_result"
                }
            ], 
            "source": "#Jaccard index for KNN\nfrom sklearn.metrics import jaccard_similarity_score\njaccard_similarity_score(y_test, yhatknn)"
        }, 
        {
            "execution_count": 95, 
            "cell_type": "code", 
            "metadata": {}, 
            "outputs": [
                {
                    "execution_count": 95, 
                    "metadata": {}, 
                    "data": {
                        "text/plain": "0.83271375464684017"
                    }, 
                    "output_type": "execute_result"
                }
            ], 
            "source": "#F1 score for KNN\nfrom sklearn.metrics import f1_score\nf1_score(y_test, yhatknn)"
        }, 
        {
            "execution_count": 108, 
            "cell_type": "code", 
            "metadata": {}, 
            "outputs": [
                {
                    "execution_count": 108, 
                    "metadata": {}, 
                    "data": {
                        "text/plain": "array([[ 0.        ,  1.        ],\n       [ 0.        ,  1.        ],\n       [ 0.33333333,  0.66666667],\n       [ 0.        ,  1.        ],\n       [ 0.        ,  1.        ],\n       [ 0.33333333,  0.66666667],\n       [ 0.        ,  1.        ],\n       [ 1.        ,  0.        ],\n       [ 0.        ,  1.        ],\n       [ 1.        ,  0.        ],\n       [ 0.33333333,  0.66666667],\n       [ 0.        ,  1.        ],\n       [ 0.33333333,  0.66666667],\n       [ 0.33333333,  0.66666667],\n       [ 1.        ,  0.        ],\n       [ 0.33333333,  0.66666667],\n       [ 0.33333333,  0.66666667],\n       [ 0.33333333,  0.66666667],\n       [ 0.33333333,  0.66666667],\n       [ 0.        ,  1.        ],\n       [ 1.        ,  0.        ],\n       [ 0.        ,  1.        ],\n       [ 0.33333333,  0.66666667],\n       [ 0.66666667,  0.33333333],\n       [ 1.        ,  0.        ],\n       [ 0.        ,  1.        ],\n       [ 0.        ,  1.        ],\n       [ 0.33333333,  0.66666667],\n       [ 0.66666667,  0.33333333],\n       [ 0.        ,  1.        ],\n       [ 0.66666667,  0.33333333],\n       [ 0.        ,  1.        ],\n       [ 0.        ,  1.        ],\n       [ 0.66666667,  0.33333333],\n       [ 0.33333333,  0.66666667],\n       [ 0.33333333,  0.66666667],\n       [ 0.        ,  1.        ],\n       [ 0.33333333,  0.66666667],\n       [ 1.        ,  0.        ],\n       [ 0.66666667,  0.33333333],\n       [ 0.        ,  1.        ],\n       [ 0.33333333,  0.66666667],\n       [ 0.        ,  1.        ],\n       [ 0.33333333,  0.66666667],\n       [ 0.        ,  1.        ],\n       [ 0.        ,  1.        ],\n       [ 0.33333333,  0.66666667],\n       [ 0.33333333,  0.66666667],\n       [ 0.33333333,  0.66666667],\n       [ 0.        ,  1.        ],\n       [ 0.        ,  1.        ],\n       [ 0.33333333,  0.66666667],\n       [ 0.33333333,  0.66666667],\n       [ 0.        ,  1.        ],\n       [ 0.        ,  1.        ],\n       [ 1.        ,  0.        ],\n       [ 0.66666667,  0.33333333],\n       [ 0.66666667,  0.33333333],\n       [ 0.        ,  1.        ],\n       [ 0.        ,  1.        ],\n       [ 1.        ,  0.        ],\n       [ 0.33333333,  0.66666667],\n       [ 0.33333333,  0.66666667],\n       [ 0.        ,  1.        ],\n       [ 0.33333333,  0.66666667],\n       [ 1.        ,  0.        ],\n       [ 1.        ,  0.        ],\n       [ 0.66666667,  0.33333333],\n       [ 0.33333333,  0.66666667],\n       [ 0.66666667,  0.33333333],\n       [ 0.        ,  1.        ],\n       [ 0.33333333,  0.66666667],\n       [ 0.        ,  1.        ],\n       [ 0.33333333,  0.66666667],\n       [ 0.33333333,  0.66666667],\n       [ 0.        ,  1.        ],\n       [ 0.33333333,  0.66666667],\n       [ 0.        ,  1.        ],\n       [ 0.        ,  1.        ],\n       [ 0.        ,  1.        ],\n       [ 0.33333333,  0.66666667],\n       [ 0.33333333,  0.66666667],\n       [ 0.        ,  1.        ],\n       [ 1.        ,  0.        ],\n       [ 0.        ,  1.        ],\n       [ 0.33333333,  0.66666667],\n       [ 1.        ,  0.        ],\n       [ 0.        ,  1.        ],\n       [ 0.        ,  1.        ],\n       [ 0.        ,  1.        ],\n       [ 0.33333333,  0.66666667],\n       [ 0.        ,  1.        ],\n       [ 0.        ,  1.        ],\n       [ 0.33333333,  0.66666667],\n       [ 1.        ,  0.        ],\n       [ 0.        ,  1.        ],\n       [ 0.        ,  1.        ],\n       [ 0.33333333,  0.66666667],\n       [ 0.66666667,  0.33333333],\n       [ 0.        ,  1.        ],\n       [ 0.        ,  1.        ],\n       [ 0.        ,  1.        ],\n       [ 0.        ,  1.        ],\n       [ 0.        ,  1.        ],\n       [ 0.        ,  1.        ],\n       [ 0.33333333,  0.66666667],\n       [ 0.66666667,  0.33333333],\n       [ 0.33333333,  0.66666667],\n       [ 0.        ,  1.        ],\n       [ 1.        ,  0.        ],\n       [ 0.33333333,  0.66666667],\n       [ 1.        ,  0.        ],\n       [ 0.        ,  1.        ],\n       [ 0.        ,  1.        ],\n       [ 1.        ,  0.        ],\n       [ 0.33333333,  0.66666667],\n       [ 0.        ,  1.        ],\n       [ 0.33333333,  0.66666667],\n       [ 0.        ,  1.        ],\n       [ 1.        ,  0.        ],\n       [ 0.33333333,  0.66666667],\n       [ 1.        ,  0.        ],\n       [ 0.        ,  1.        ],\n       [ 0.        ,  1.        ],\n       [ 0.        ,  1.        ],\n       [ 0.33333333,  0.66666667],\n       [ 0.33333333,  0.66666667],\n       [ 0.        ,  1.        ],\n       [ 0.33333333,  0.66666667],\n       [ 0.        ,  1.        ],\n       [ 0.        ,  1.        ],\n       [ 0.        ,  1.        ],\n       [ 0.        ,  1.        ],\n       [ 0.        ,  1.        ],\n       [ 1.        ,  0.        ],\n       [ 0.        ,  1.        ],\n       [ 0.66666667,  0.33333333],\n       [ 1.        ,  0.        ],\n       [ 1.        ,  0.        ],\n       [ 0.        ,  1.        ],\n       [ 0.        ,  1.        ],\n       [ 0.        ,  1.        ],\n       [ 0.33333333,  0.66666667],\n       [ 0.33333333,  0.66666667],\n       [ 1.        ,  0.        ],\n       [ 0.        ,  1.        ],\n       [ 0.33333333,  0.66666667],\n       [ 0.33333333,  0.66666667],\n       [ 0.33333333,  0.66666667],\n       [ 0.33333333,  0.66666667],\n       [ 1.        ,  0.        ],\n       [ 1.        ,  0.        ],\n       [ 0.        ,  1.        ],\n       [ 0.33333333,  0.66666667],\n       [ 0.33333333,  0.66666667],\n       [ 0.        ,  1.        ],\n       [ 0.        ,  1.        ],\n       [ 0.        ,  1.        ],\n       [ 0.33333333,  0.66666667],\n       [ 0.        ,  1.        ],\n       [ 1.        ,  0.        ],\n       [ 0.        ,  1.        ],\n       [ 0.        ,  1.        ],\n       [ 0.33333333,  0.66666667],\n       [ 0.66666667,  0.33333333],\n       [ 0.        ,  1.        ],\n       [ 1.        ,  0.        ],\n       [ 0.        ,  1.        ],\n       [ 0.        ,  1.        ],\n       [ 0.        ,  1.        ],\n       [ 0.        ,  1.        ],\n       [ 0.        ,  1.        ],\n       [ 0.        ,  1.        ],\n       [ 0.        ,  1.        ],\n       [ 0.33333333,  0.66666667],\n       [ 0.33333333,  0.66666667],\n       [ 0.        ,  1.        ],\n       [ 0.33333333,  0.66666667],\n       [ 0.33333333,  0.66666667],\n       [ 0.        ,  1.        ],\n       [ 0.        ,  1.        ],\n       [ 1.        ,  0.        ],\n       [ 0.33333333,  0.66666667],\n       [ 0.        ,  1.        ],\n       [ 0.33333333,  0.66666667]])"
                    }, 
                    "output_type": "execute_result"
                }
            ], 
            "source": "#Log_loss for knn\nyhat_probknn = neigh.predict_proba(X_test)\nyhat_probknn"
        }, 
        {
            "execution_count": null, 
            "cell_type": "code", 
            "metadata": {}, 
            "outputs": [], 
            "source": ""
        }, 
        {
            "execution_count": 110, 
            "cell_type": "code", 
            "metadata": {}, 
            "outputs": [
                {
                    "execution_count": 110, 
                    "metadata": {}, 
                    "data": {
                        "text/plain": "4.1705339973970768"
                    }, 
                    "output_type": "execute_result"
                }
            ], 
            "source": "from sklearn.metrics import log_loss\nlog_loss(y_test, yhat_probknn)"
        }, 
        {
            "execution_count": 111, 
            "cell_type": "code", 
            "metadata": {}, 
            "outputs": [], 
            "source": "#Implementing Decision tree\nfrom sklearn.tree import DecisionTreeClassifier\n"
        }, 
        {
            "execution_count": 112, 
            "cell_type": "code", 
            "metadata": {}, 
            "outputs": [
                {
                    "execution_count": 112, 
                    "metadata": {}, 
                    "data": {
                        "text/plain": "DecisionTreeClassifier(class_weight=None, criterion='entropy', max_depth=4,\n            max_features=None, max_leaf_nodes=None,\n            min_impurity_decrease=0.0, min_impurity_split=None,\n            min_samples_leaf=1, min_samples_split=2,\n            min_weight_fraction_leaf=0.0, presort=False, random_state=None,\n            splitter='best')"
                    }, 
                    "output_type": "execute_result"
                }
            ], 
            "source": "dectree = DecisionTreeClassifier(criterion='entropy', max_depth= 4)\ndectree"
        }, 
        {
            "execution_count": 120, 
            "cell_type": "code", 
            "metadata": {}, 
            "outputs": [], 
            "source": "#modeling\nDT= dectree.fit(X_train, y_train)"
        }, 
        {
            "execution_count": 121, 
            "cell_type": "code", 
            "metadata": {}, 
            "outputs": [], 
            "source": "#prediction\ndecpredict= dectree.predict(X_test)"
        }, 
        {
            "execution_count": 122, 
            "cell_type": "code", 
            "metadata": {}, 
            "outputs": [
                {
                    "execution_count": 122, 
                    "metadata": {}, 
                    "data": {
                        "text/plain": "array([ 1.,  1.,  1.,  1.,  1.,  1.,  1.,  0.,  1.,  1.])"
                    }, 
                    "output_type": "execute_result"
                }
            ], 
            "source": "decpredict[0:10]"
        }, 
        {
            "execution_count": 116, 
            "cell_type": "code", 
            "metadata": {}, 
            "outputs": [
                {
                    "execution_count": 116, 
                    "metadata": {}, 
                    "data": {
                        "text/plain": "array([ 1.,  1.,  0.,  0.,  1.,  1.,  0.,  0.,  0.,  1.])"
                    }, 
                    "output_type": "execute_result"
                }
            ], 
            "source": "y_test[0:10]"
        }, 
        {
            "execution_count": 117, 
            "cell_type": "code", 
            "metadata": {}, 
            "outputs": [
                {
                    "output_type": "stream", 
                    "name": "stdout", 
                    "text": "DecisionTrees's Accuracy:  0.789189189189\n"
                }
            ], 
            "source": "#accuracy of Decision tree\nfrom sklearn import metrics\nimport matplotlib.pyplot as plt\nprint(\"DecisionTrees's Accuracy: \", metrics.accuracy_score(y_test, decpredict))"
        }, 
        {
            "execution_count": 118, 
            "cell_type": "code", 
            "metadata": {}, 
            "outputs": [
                {
                    "execution_count": 118, 
                    "metadata": {}, 
                    "data": {
                        "text/plain": "0.78918918918918923"
                    }, 
                    "output_type": "execute_result"
                }
            ], 
            "source": "#Jaccard index for Decision tree\njaccard_similarity_score(y_test, decpredict)"
        }, 
        {
            "execution_count": 119, 
            "cell_type": "code", 
            "metadata": {}, 
            "outputs": [
                {
                    "execution_count": 119, 
                    "metadata": {}, 
                    "data": {
                        "text/plain": "0.8612099644128115"
                    }, 
                    "output_type": "execute_result"
                }
            ], 
            "source": "#F1 score for Decision tree\nf1_score(y_test, decpredict)"
        }, 
        {
            "execution_count": 123, 
            "cell_type": "code", 
            "metadata": {}, 
            "outputs": [], 
            "source": "#LOg loss for Decison tree\ndecpredict_prob= DT.predict_proba(X_test)"
        }, 
        {
            "execution_count": 124, 
            "cell_type": "code", 
            "metadata": {}, 
            "outputs": [
                {
                    "execution_count": 124, 
                    "metadata": {}, 
                    "data": {
                        "text/plain": "1.3967342790832615"
                    }, 
                    "output_type": "execute_result"
                }
            ], 
            "source": "log_loss(y_test, decpredict_prob)"
        }, 
        {
            "execution_count": 125, 
            "cell_type": "code", 
            "metadata": {}, 
            "outputs": [
                {
                    "execution_count": 125, 
                    "metadata": {}, 
                    "data": {
                        "text/plain": "LogisticRegression(C=0.01, class_weight=None, dual=False, fit_intercept=True,\n          intercept_scaling=1, max_iter=100, multi_class='ovr', n_jobs=1,\n          penalty='l2', random_state=None, solver='liblinear', tol=0.0001,\n          verbose=0, warm_start=False)"
                    }, 
                    "output_type": "execute_result"
                }
            ], 
            "source": "#Logistic regression\nfrom sklearn.linear_model import LogisticRegression\nfrom sklearn.metrics import confusion_matrix\nLR = LogisticRegression(C=0.01, solver='liblinear').fit(X_train,y_train)\nLR"
        }, 
        {
            "execution_count": 128, 
            "cell_type": "code", 
            "metadata": {}, 
            "outputs": [
                {
                    "execution_count": 128, 
                    "metadata": {}, 
                    "data": {
                        "text/plain": "array([ 1.,  1.,  1.,  1.,  1.,  1.,  1.,  0.,  1.,  1.,  1.,  1.,  1.,\n        1.,  0.,  1.,  1.,  1.,  1.,  1.,  0.,  1.,  1.,  1.,  0.,  1.,\n        1.,  1.,  1.,  1.,  1.,  1.,  1.,  1.,  1.,  1.,  1.,  1.,  0.,\n        1.,  1.,  1.,  1.,  1.,  1.,  1.,  1.,  1.,  1.,  1.,  1.,  1.,\n        1.,  1.,  1.,  0.,  0.,  1.,  1.,  1.,  0.,  1.,  1.,  1.,  1.,\n        0.,  0.,  1.,  1.,  0.,  1.,  1.,  1.,  1.,  1.,  1.,  1.,  1.,\n        1.,  1.,  1.,  1.,  1.,  0.,  1.,  1.,  1.,  1.,  1.,  1.,  1.,\n        1.,  1.,  1.,  0.,  1.,  1.,  1.,  1.,  1.,  1.,  1.,  1.,  1.,\n        1.,  1.,  0.,  1.,  1.,  0.,  1.,  0.,  1.,  1.,  0.,  1.,  1.,\n        1.,  1.,  0.,  1.,  0.,  1.,  1.,  1.,  1.,  1.,  1.,  1.,  1.,\n        1.,  1.,  1.,  1.,  0.,  1.,  1.,  1.,  0.,  1.,  1.,  1.,  1.,\n        1.,  0.,  1.,  1.,  1.,  1.,  1.,  0.,  0.,  1.,  0.,  1.,  1.,\n        1.,  1.,  1.,  1.,  0.,  1.,  1.,  1.,  1.,  1.,  0.,  1.,  1.,\n        1.,  1.,  1.,  1.,  1.,  1.,  1.,  1.,  1.,  1.,  1.,  1.,  0.,\n        1.,  1.,  1.])"
                    }, 
                    "output_type": "execute_result"
                }
            ], 
            "source": "#prediction\nyhat_logistic = LR.predict(X_test)\nyhat_logistic"
        }, 
        {
            "execution_count": 129, 
            "cell_type": "code", 
            "metadata": {}, 
            "outputs": [
                {
                    "execution_count": 129, 
                    "metadata": {}, 
                    "data": {
                        "text/plain": "array([ 1.,  1.,  0.,  0.,  1.,  1.,  0.,  0.,  0.,  1.,  1.,  1.,  1.,\n        0.,  0.,  1.,  0.,  1.,  1.,  1.,  1.,  1.,  1.,  1.,  0.,  1.,\n        0.,  1.,  1.,  1.,  0.,  1.,  1.,  0.,  0.,  0.,  1.,  1.,  0.,\n        1.,  1.,  1.,  1.,  1.,  0.,  1.,  1.,  0.,  1.,  1.,  1.,  1.,\n        1.,  0.,  1.,  0.,  0.,  1.,  1.,  1.,  0.,  0.,  1.,  1.,  1.,\n        0.,  1.,  1.,  0.,  0.,  1.,  1.,  0.,  1.,  1.,  1.,  1.,  1.,\n        1.,  1.,  1.,  1.,  1.,  0.,  1.,  1.,  1.,  1.,  1.,  1.,  1.,\n        0.,  0.,  1.,  0.,  0.,  1.,  1.,  1.,  1.,  1.,  1.,  1.,  1.,\n        1.,  0.,  0.,  1.,  1.,  0.,  0.,  0.,  1.,  1.,  0.,  1.,  1.,\n        1.,  1.,  0.,  1.,  0.,  0.,  0.,  1.,  1.,  1.,  1.,  1.,  1.,\n        1.,  0.,  1.,  1.,  0.,  1.,  1.,  1.,  0.,  0.,  1.,  1.,  0.,\n        1.,  0.,  1.,  1.,  0.,  1.,  0.,  0.,  0.,  0.,  0.,  1.,  1.,\n        1.,  1.,  0.,  1.,  0.,  0.,  1.,  0.,  0.,  1.,  0.,  1.,  1.,\n        1.,  1.,  1.,  1.,  1.,  1.,  1.,  1.,  1.,  1.,  1.,  1.,  0.,\n        1.,  1.,  0.])"
                    }, 
                    "output_type": "execute_result"
                }
            ], 
            "source": "y_test"
        }, 
        {
            "execution_count": 130, 
            "cell_type": "code", 
            "metadata": {}, 
            "outputs": [
                {
                    "execution_count": 130, 
                    "metadata": {}, 
                    "data": {
                        "text/plain": "0.80000000000000004"
                    }, 
                    "output_type": "execute_result"
                }
            ], 
            "source": "#jaccard index for logistic regression\njaccard_similarity_score(y_test, yhat_logistic)"
        }, 
        {
            "execution_count": 131, 
            "cell_type": "code", 
            "metadata": {}, 
            "outputs": [
                {
                    "execution_count": 131, 
                    "metadata": {}, 
                    "data": {
                        "text/plain": "0.8683274021352313"
                    }, 
                    "output_type": "execute_result"
                }
            ], 
            "source": "#F1 score for logistic regression\nf1_score(y_test, yhat_logistic)"
        }, 
        {
            "execution_count": 132, 
            "cell_type": "code", 
            "metadata": {}, 
            "outputs": [
                {
                    "execution_count": 132, 
                    "metadata": {}, 
                    "data": {
                        "text/plain": "0.5466202270995667"
                    }, 
                    "output_type": "execute_result"
                }
            ], 
            "source": "#log loss\nyhat_logistic_prob = LR.predict_proba(X_test)\nlog_loss(y_test,yhat_logistic_prob )"
        }, 
        {
            "execution_count": 133, 
            "cell_type": "code", 
            "metadata": {}, 
            "outputs": [], 
            "source": "#Implementing Support vector machine\nfrom sklearn import svm"
        }, 
        {
            "execution_count": 143, 
            "cell_type": "code", 
            "metadata": {}, 
            "outputs": [], 
            "source": "from sklearn import svm\nclf = svm.SVC(kernel='rbf')\nsvmclf= clf.fit(X_train, y_train) "
        }, 
        {
            "execution_count": 140, 
            "cell_type": "code", 
            "metadata": {}, 
            "outputs": [
                {
                    "execution_count": 140, 
                    "metadata": {}, 
                    "data": {
                        "text/plain": "array([ 1.,  1.,  1.,  1.,  1.,  1.,  1.,  0.,  1.,  1.,  1.,  1.,  1.,\n        1.,  0.,  1.,  1.,  1.,  1.,  1.,  0.,  1.,  1.,  1.,  0.,  1.,\n        1.,  1.,  1.,  1.,  1.,  1.,  1.,  0.,  1.,  1.,  1.,  1.,  0.,\n        1.,  1.,  1.,  1.,  1.,  1.,  1.,  1.,  1.,  1.,  1.,  1.,  1.,\n        1.,  1.,  1.,  0.,  0.,  1.,  1.,  1.,  0.,  1.,  1.,  1.,  1.,\n        0.,  0.,  1.,  1.,  0.,  1.,  1.,  1.,  1.,  1.,  1.,  1.,  1.,\n        1.,  1.,  1.,  1.,  1.,  0.,  1.,  1.,  1.,  1.,  1.,  1.,  1.,\n        1.,  1.,  1.,  0.,  1.,  1.,  1.,  1.,  1.,  1.,  1.,  1.,  1.,\n        1.,  1.,  1.,  1.,  1.,  0.,  1.,  0.,  1.,  1.,  0.,  1.,  1.,\n        1.,  1.,  0.,  1.,  0.,  1.,  1.,  1.,  1.,  1.,  1.,  1.,  1.,\n        1.,  1.,  1.,  1.,  0.,  1.,  1.,  1.,  0.,  1.,  1.,  1.,  1.,\n        1.,  0.,  1.,  1.,  1.,  1.,  1.,  0.,  0.,  1.,  0.,  1.,  1.,\n        1.,  1.,  1.,  1.,  0.,  1.,  1.,  1.,  1.,  1.,  0.,  1.,  1.,\n        1.,  1.,  1.,  1.,  1.,  1.,  1.,  1.,  1.,  1.,  1.,  1.,  0.,\n        1.,  1.,  1.])"
                    }, 
                    "output_type": "execute_result"
                }
            ], 
            "source": "yhat_svm= clf.predict(X_test)\nyhat_svm"
        }, 
        {
            "execution_count": 138, 
            "cell_type": "code", 
            "metadata": {}, 
            "outputs": [
                {
                    "execution_count": 138, 
                    "metadata": {}, 
                    "data": {
                        "text/plain": "array([ 1.,  1.,  0.,  0.,  1.,  1.,  0.,  0.,  0.,  1.,  1.,  1.,  1.,\n        0.,  0.,  1.,  0.,  1.,  1.,  1.,  1.,  1.,  1.,  1.,  0.,  1.,\n        0.,  1.,  1.,  1.,  0.,  1.,  1.,  0.,  0.,  0.,  1.,  1.,  0.,\n        1.,  1.,  1.,  1.,  1.,  0.,  1.,  1.,  0.,  1.,  1.,  1.,  1.,\n        1.,  0.,  1.,  0.,  0.,  1.,  1.,  1.,  0.,  0.,  1.,  1.,  1.,\n        0.,  1.,  1.,  0.,  0.,  1.,  1.,  0.,  1.,  1.,  1.,  1.,  1.,\n        1.,  1.,  1.,  1.,  1.,  0.,  1.,  1.,  1.,  1.,  1.,  1.,  1.,\n        0.,  0.,  1.,  0.,  0.,  1.,  1.,  1.,  1.,  1.,  1.,  1.,  1.,\n        1.,  0.,  0.,  1.,  1.,  0.,  0.,  0.,  1.,  1.,  0.,  1.,  1.,\n        1.,  1.,  0.,  1.,  0.,  0.,  0.,  1.,  1.,  1.,  1.,  1.,  1.,\n        1.,  0.,  1.,  1.,  0.,  1.,  1.,  1.,  0.,  0.,  1.,  1.,  0.,\n        1.,  0.,  1.,  1.,  0.,  1.,  0.,  0.,  0.,  0.,  0.,  1.,  1.,\n        1.,  1.,  0.,  1.,  0.,  0.,  1.,  0.,  0.,  1.,  0.,  1.,  1.,\n        1.,  1.,  1.,  1.,  1.,  1.,  1.,  1.,  1.,  1.,  1.,  1.,  0.,\n        1.,  1.,  0.])"
                    }, 
                    "output_type": "execute_result"
                }
            ], 
            "source": "y_test"
        }, 
        {
            "execution_count": 141, 
            "cell_type": "code", 
            "metadata": {}, 
            "outputs": [
                {
                    "execution_count": 141, 
                    "metadata": {}, 
                    "data": {
                        "text/plain": "0.80000000000000004"
                    }, 
                    "output_type": "execute_result"
                }
            ], 
            "source": "#jaccard index of support vector machine\njaccard_similarity_score(y_test, yhat_svm)"
        }, 
        {
            "execution_count": 142, 
            "cell_type": "code", 
            "metadata": {}, 
            "outputs": [
                {
                    "execution_count": 142, 
                    "metadata": {}, 
                    "data": {
                        "text/plain": "0.8683274021352313"
                    }, 
                    "output_type": "execute_result"
                }
            ], 
            "source": "#F1 score of SVM\nf1_score(y_test, yhat_svm)"
        }, 
        {
            "execution_count": 144, 
            "cell_type": "code", 
            "metadata": {}, 
            "outputs": [
                {
                    "ename": "AttributeError", 
                    "evalue": "predict_proba is not available when  probability=False", 
                    "traceback": [
                        "\u001b[0;31m---------------------------------------------------------------------------\u001b[0m", 
                        "\u001b[0;31mAttributeError\u001b[0m                            Traceback (most recent call last)", 
                        "\u001b[0;32m<ipython-input-144-2caabe61e497>\u001b[0m in \u001b[0;36m<module>\u001b[0;34m()\u001b[0m\n\u001b[0;32m----> 1\u001b[0;31m \u001b[0myhat_svmproba\u001b[0m\u001b[0;34m=\u001b[0m \u001b[0msvmclf\u001b[0m\u001b[0;34m.\u001b[0m\u001b[0mpredict_proba\u001b[0m\u001b[0;34m(\u001b[0m\u001b[0mX_test\u001b[0m\u001b[0;34m)\u001b[0m\u001b[0;34m\u001b[0m\u001b[0m\n\u001b[0m", 
                        "\u001b[0;32m/opt/conda/envs/DSX-Python35/lib/python3.5/site-packages/sklearn/svm/base.py\u001b[0m in \u001b[0;36mpredict_proba\u001b[0;34m(self)\u001b[0m\n\u001b[1;32m    588\u001b[0m         \u001b[0mdatasets\u001b[0m\u001b[0;34m.\u001b[0m\u001b[0;34m\u001b[0m\u001b[0m\n\u001b[1;32m    589\u001b[0m         \"\"\"\n\u001b[0;32m--> 590\u001b[0;31m         \u001b[0mself\u001b[0m\u001b[0;34m.\u001b[0m\u001b[0m_check_proba\u001b[0m\u001b[0;34m(\u001b[0m\u001b[0;34m)\u001b[0m\u001b[0;34m\u001b[0m\u001b[0m\n\u001b[0m\u001b[1;32m    591\u001b[0m         \u001b[0;32mreturn\u001b[0m \u001b[0mself\u001b[0m\u001b[0;34m.\u001b[0m\u001b[0m_predict_proba\u001b[0m\u001b[0;34m\u001b[0m\u001b[0m\n\u001b[1;32m    592\u001b[0m \u001b[0;34m\u001b[0m\u001b[0m\n", 
                        "\u001b[0;32m/opt/conda/envs/DSX-Python35/lib/python3.5/site-packages/sklearn/svm/base.py\u001b[0m in \u001b[0;36m_check_proba\u001b[0;34m(self)\u001b[0m\n\u001b[1;32m    555\u001b[0m     \u001b[0;32mdef\u001b[0m \u001b[0m_check_proba\u001b[0m\u001b[0;34m(\u001b[0m\u001b[0mself\u001b[0m\u001b[0;34m)\u001b[0m\u001b[0;34m:\u001b[0m\u001b[0;34m\u001b[0m\u001b[0m\n\u001b[1;32m    556\u001b[0m         \u001b[0;32mif\u001b[0m \u001b[0;32mnot\u001b[0m \u001b[0mself\u001b[0m\u001b[0;34m.\u001b[0m\u001b[0mprobability\u001b[0m\u001b[0;34m:\u001b[0m\u001b[0;34m\u001b[0m\u001b[0m\n\u001b[0;32m--> 557\u001b[0;31m             raise AttributeError(\"predict_proba is not available when \"\n\u001b[0m\u001b[1;32m    558\u001b[0m                                  \" probability=False\")\n\u001b[1;32m    559\u001b[0m         \u001b[0;32mif\u001b[0m \u001b[0mself\u001b[0m\u001b[0;34m.\u001b[0m\u001b[0m_impl\u001b[0m \u001b[0;32mnot\u001b[0m \u001b[0;32min\u001b[0m \u001b[0;34m(\u001b[0m\u001b[0;34m'c_svc'\u001b[0m\u001b[0;34m,\u001b[0m \u001b[0;34m'nu_svc'\u001b[0m\u001b[0;34m)\u001b[0m\u001b[0;34m:\u001b[0m\u001b[0;34m\u001b[0m\u001b[0m\n", 
                        "\u001b[0;31mAttributeError\u001b[0m: predict_proba is not available when  probability=False"
                    ], 
                    "output_type": "error"
                }
            ], 
            "source": "#log loss\nyhat_svmproba= svmclf.predict_proba(X_test)"
        }, 
        {
            "execution_count": null, 
            "cell_type": "code", 
            "metadata": {}, 
            "outputs": [], 
            "source": ""
        }
    ], 
    "metadata": {
        "kernelspec": {
            "display_name": "Python 3.5", 
            "name": "python3", 
            "language": "python"
        }, 
        "language_info": {
            "mimetype": "text/x-python", 
            "nbconvert_exporter": "python", 
            "version": "3.5.5", 
            "name": "python", 
            "file_extension": ".py", 
            "pygments_lexer": "ipython3", 
            "codemirror_mode": {
                "version": 3, 
                "name": "ipython"
            }
        }
    }, 
    "nbformat": 4
}